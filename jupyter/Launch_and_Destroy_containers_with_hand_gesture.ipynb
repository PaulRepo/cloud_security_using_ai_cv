{
 "cells": [
  {
   "cell_type": "code",
   "execution_count": 1,
   "id": "02950996",
   "metadata": {},
   "outputs": [],
   "source": [
    "# This notebook will control the creation and destruction of docker containers via hand gesture.\n",
    "# By default no container will be running.\n",
    "# If some fingers of Right hand is shown in the camera, then that many containers will be launched.\n",
    "# If some fingers of Left hand is shown in the camera, then that many containers will be destroyed."
   ]
  },
  {
   "cell_type": "code",
   "execution_count": null,
   "id": "32c6dc3e",
   "metadata": {},
   "outputs": [],
   "source": [
    "import cv2\n",
    "from cvzone.HandTrackingModule import HandDetector"
   ]
  },
  {
   "cell_type": "code",
   "execution_count": 2,
   "id": "0e68419a",
   "metadata": {},
   "outputs": [],
   "source": [
    "import urllib.request"
   ]
  },
  {
   "cell_type": "code",
   "execution_count": 3,
   "id": "56cf3ccf",
   "metadata": {},
   "outputs": [
    {
     "name": "stderr",
     "output_type": "stream",
     "text": [
      "INFO: Created TensorFlow Lite XNNPACK delegate for CPU.\n"
     ]
    }
   ],
   "source": [
    "detector = HandDetector(maxHands=2, detectionCon=0.6)"
   ]
  },
  {
   "cell_type": "code",
   "execution_count": 4,
   "id": "b12882fc",
   "metadata": {},
   "outputs": [],
   "source": [
    "# start WebCam rolling\n",
    "camera = cv2.VideoCapture(0)"
   ]
  },
  {
   "cell_type": "code",
   "execution_count": 5,
   "id": "86585cd8",
   "metadata": {},
   "outputs": [],
   "source": [
    "# capture a photo in each 100ms\n",
    "isLinuxDemo = True\n",
    "API_GATEWAY_URL = \"https://fve1piomcc.execute-api.ap-south-1.amazonaws.com/test\"\n",
    "while True:\n",
    "    totalFingers = 0\n",
    "    textPosition = (10,50)\n",
    "    success, img = camera.read()\n",
    "    hands = detector.findHands(img, draw=False)\n",
    "    \n",
    "    if hands:\n",
    "        fingers = hands[0]\n",
    "        if fingers:\n",
    "            whichHand = hands[0][\"type\"]\n",
    "            fingersUp = detector.fingersUp(fingers)\n",
    "            if fingersUp:\n",
    "                for finger in range(0, len(fingersUp)):\n",
    "                    totalFingers = totalFingers + fingersUp[finger]\n",
    "                text = \"{} hand: {}\".format(whichHand, totalFingers)\n",
    "                \n",
    "                #Print above text on the same image\n",
    "                cv2.putText(\n",
    "                  img, #numpy array on which text is written\n",
    "                  text,\n",
    "                  textPosition, # position at which writing has to start\n",
    "                  cv2.FONT_HERSHEY_SIMPLEX, # font_family\n",
    "                  1, # font size\n",
    "                  (209, 80, 0, 255), # font color\n",
    "                  3) # font stroke\n",
    "                \n",
    "                #print(\"fingersUp: {}\".format(fingersUp))\n",
    "                \n",
    "                # if Left hand fingers are raised destroy that many containers\n",
    "                if whichHand == \"Left\":\n",
    "                    for finger in range(totalFingers):\n",
    "                        urllib.request.urlopen(API_GATEWAY_URL + \"/destroycontainer\")\n",
    "                    \n",
    "                # if Right hand fingers are raised run that many containers\n",
    "                elif whichHand == \"Right\":\n",
    "                    for finger in range(totalFingers):\n",
    "                        urllib.request.urlopen(API_GATEWAY_URL + \"/container\")\n",
    "                    \n",
    "    #cv2.startWindowThread() # img window do not close, so added this. But issue remains\n",
    "    #cv2.namedWindow(\"Output Image\", cv2.WINDOW_NORMAL) # to resize window\n",
    "    #cv2.resizeWindow(\"Resized Output Image\", 480, 600)\n",
    "    cv2.imshow(\"captured habds\", img)\n",
    "    if cv2.waitKey(100) == 13:\n",
    "        break\n",
    "cv2.destroyAllWindows()                "
   ]
  },
  {
   "cell_type": "code",
   "execution_count": 6,
   "id": "e772ac5b",
   "metadata": {},
   "outputs": [],
   "source": [
    "# release webcam\n",
    "camera.release()"
   ]
  },
  {
   "cell_type": "code",
   "execution_count": null,
   "id": "2d931e47",
   "metadata": {},
   "outputs": [],
   "source": []
  },
  {
   "cell_type": "code",
   "execution_count": null,
   "id": "6a7797c5",
   "metadata": {},
   "outputs": [],
   "source": []
  },
  {
   "cell_type": "code",
   "execution_count": null,
   "id": "014decc1",
   "metadata": {},
   "outputs": [],
   "source": []
  },
  {
   "cell_type": "code",
   "execution_count": null,
   "id": "2b551400",
   "metadata": {},
   "outputs": [],
   "source": []
  },
  {
   "cell_type": "code",
   "execution_count": null,
   "id": "436fe491",
   "metadata": {},
   "outputs": [],
   "source": []
  },
  {
   "cell_type": "code",
   "execution_count": null,
   "id": "8ec02a84",
   "metadata": {},
   "outputs": [],
   "source": []
  },
  {
   "cell_type": "code",
   "execution_count": null,
   "id": "a108e381",
   "metadata": {},
   "outputs": [],
   "source": []
  },
  {
   "cell_type": "code",
   "execution_count": null,
   "id": "ca398e94",
   "metadata": {},
   "outputs": [],
   "source": []
  },
  {
   "cell_type": "code",
   "execution_count": null,
   "id": "760ad49d",
   "metadata": {},
   "outputs": [],
   "source": []
  },
  {
   "cell_type": "code",
   "execution_count": null,
   "id": "421e3c0b",
   "metadata": {},
   "outputs": [],
   "source": [
    "# Dummy code. Ignore it\n",
    "isLinuxDemo = True\n",
    "API_GATEWAY_URL = \"https://oqqk1mnhl1.execute-api.ap-south-1.amazonaws.com/test\"\n",
    "while True:\n",
    "    totalFingers = 0\n",
    "    textPosition = (10,50)\n",
    "    success, img = camera.read()\n",
    "    hands = detector.findHands(img, draw=False)\n",
    "    \n",
    "    if hands:\n",
    "        fingers = hands[0]\n",
    "        if fingers:\n",
    "            whichHand = hands[0][\"type\"]\n",
    "            fingersUp = detector.fingersUp(fingers)\n",
    "            if fingersUp:\n",
    "                for finger in range(0, len(fingersUp)):\n",
    "                    totalFingers = totalFingers + fingersUp[finger]\n",
    "                text = \"{} hand: {}\".format(whichHand, totalFingers)\n",
    "                \n",
    "                #Print above text on the same image\n",
    "                cv2.putText(\n",
    "                  img, #numpy array on which text is written\n",
    "                  text,\n",
    "                  textPosition, # position at which writing has to start\n",
    "                  cv2.FONT_HERSHEY_SIMPLEX, # font_family\n",
    "                  1, # font size\n",
    "                  (209, 80, 0, 255), # font color\n",
    "                  3) # font stroke\n",
    "                \n",
    "                #print(\"fingersUp: {}\".format(fingersUp))\n",
    "                #print(\"isLinuxDemo: {}\".format(isLinuxDemo))\n",
    "                # If 'isLinuxDemo' is True and only thumb finger of any hand is raised then docker demo activated\n",
    "                if isLinuxDemo and fingersUp == [1,0,0,0,0]:\n",
    "                    isLinuxDemo = False\n",
    "                    text = \"DOCKER Demo Activated\"\n",
    "                    cv2.putText(\n",
    "                      img, #numpy array on which text is written\n",
    "                      text,\n",
    "                      textPosition, # position at which writing has to start\n",
    "                      cv2.FONT_HERSHEY_SIMPLEX, # font_family\n",
    "                      1, # font size\n",
    "                      (209, 80, 0, 255), # font color\n",
    "                      3) # font stroke\n",
    "                \n",
    "                # If 'isLinuxDemo' is False and only thumb finger of any hand is raised then Linux demo activated\n",
    "                elif not isLinuxDemo and fingersUp == [1,0,0,0,0]:\n",
    "                    isLinuxDemo = True\n",
    "                    text = \"LINUX Demo Activated\"\n",
    "                    cv2.putText(\n",
    "                      img, #numpy array on which text is written\n",
    "                      text,\n",
    "                      textPosition, # position at which writing has to start\n",
    "                      cv2.FONT_HERSHEY_SIMPLEX, # font_family\n",
    "                      1, # font size\n",
    "                      (209, 80, 0, 255), # font color\n",
    "                      3) # font stroke\n",
    "                    \n",
    "                \n",
    "                # if left hand is show then LOCK linux user\n",
    "                if isLinuxDemo and whichHand == \"Left\":\n",
    "                    urllib.request.urlopen(API_GATEWAY_URL + \"/lock/paul\")\n",
    "                    #print(\"LOCK: {}\".format(urllib.request.urlopen(\"https://f7c5j4jxqi.execute-api.ap-south-1.amazonaws.com/test/lock/paul\")))\n",
    "                \n",
    "                # if right hand is shown the UNLOCK linux user\n",
    "                elif isLinuxDemo and whichHand == \"Right\":\n",
    "                    urllib.request.urlopen(API_GATEWAY_URL + \"/unlock/paul\")\n",
    "                    #print(\"UNLOCK: {}\".format(request_url))\n",
    "                    \n",
    "                # if docker demo and Left hand destroy containers \n",
    "                elif not isLinuxDemo and whichHand == \"Left\":\n",
    "                    for finger in range(totalFingers):\n",
    "                        urllib.request.urlopen(API_GATEWAY_URL + \"/destroycontainer\")\n",
    "                    \n",
    "                # if docker demo and Right hand run containers    \n",
    "                elif not isLinuxDemo and whichHand == \"Right\":\n",
    "                    for finger in range(totalFingers):\n",
    "                        urllib.request.urlopen(API_GATEWAY_URL + \"/container\")\n",
    "                    \n",
    "    #cv2.startWindowThread() # img window do not close, so added this. But issue remains\n",
    "    #cv2.namedWindow(\"Output Image\", cv2.WINDOW_NORMAL) # to resize window\n",
    "    #cv2.resizeWindow(\"Resized Output Image\", 480, 600)\n",
    "    cv2.imshow(\"captured habds\", img)\n",
    "    if cv2.waitKey(100) == 13:\n",
    "        break\n",
    "cv2.destroyAllWindows()                "
   ]
  },
  {
   "cell_type": "code",
   "execution_count": null,
   "id": "89d424b9",
   "metadata": {},
   "outputs": [],
   "source": []
  }
 ],
 "metadata": {
  "kernelspec": {
   "display_name": "Python 3 (ipykernel)",
   "language": "python",
   "name": "python3"
  },
  "language_info": {
   "codemirror_mode": {
    "name": "ipython",
    "version": 3
   },
   "file_extension": ".py",
   "mimetype": "text/x-python",
   "name": "python",
   "nbconvert_exporter": "python",
   "pygments_lexer": "ipython3",
   "version": "3.10.9"
  }
 },
 "nbformat": 4,
 "nbformat_minor": 5
}
