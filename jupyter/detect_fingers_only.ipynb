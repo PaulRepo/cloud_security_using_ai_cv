{
 "cells": [
  {
   "cell_type": "code",
   "execution_count": 1,
   "id": "61ca9251",
   "metadata": {},
   "outputs": [],
   "source": [
    "import cv2\n",
    "from cvzone.HandTrackingModule import HandDetector"
   ]
  },
  {
   "cell_type": "code",
   "execution_count": 2,
   "id": "62a6b7d2",
   "metadata": {},
   "outputs": [
    {
     "name": "stderr",
     "output_type": "stream",
     "text": [
      "INFO: Created TensorFlow Lite XNNPACK delegate for CPU.\n"
     ]
    }
   ],
   "source": [
    "detector = HandDetector(maxHands=2, detectionCon=0.8)"
   ]
  },
  {
   "cell_type": "code",
   "execution_count": 3,
   "id": "790e7a95",
   "metadata": {},
   "outputs": [],
   "source": [
    "# WebCam rolling\n",
    "camera = cv2.VideoCapture(0)"
   ]
  },
  {
   "cell_type": "code",
   "execution_count": 4,
   "id": "062f358d",
   "metadata": {},
   "outputs": [],
   "source": [
    "# Detect which hand is raised and how many fingers in that hand is open. Also mark the fingers\n",
    "while True:\n",
    "    totalFingers = 0\n",
    "    textPosition = (10,50)\n",
    "    success, img = camera.read()\n",
    "    hands = detector.findHands(img, draw=False)\n",
    "    \n",
    "    if hands:\n",
    "        fingers = hands[0]\n",
    "        if fingers:\n",
    "            #print(\"fingers: {}\".format(fingers))\n",
    "            whichHand = hands[0]['type']\n",
    "            #print(\"whichHand: {}\".format(whichHand))\n",
    "            fingersUp = detector.fingersUp(fingers)\n",
    "            if fingersUp:\n",
    "                for finger in range(0, len(fingersUp)):\n",
    "                    totalFingers = totalFingers + fingersUp[finger]\n",
    "                text = \"{} hand: {}\".format(whichHand, totalFingers)\n",
    "                \n",
    "                #Print above text on the same image\n",
    "                cv2.putText(\n",
    "                  img, #numpy array on which text is written\n",
    "                  text,\n",
    "                  textPosition, # position at which writing has to start\n",
    "                  cv2.FONT_HERSHEY_SIMPLEX, # font_family\n",
    "                  1, # font size\n",
    "                  (209, 80, 0, 255), # font color\n",
    "                  3) # font stroke                \n",
    "    \n",
    "    \n",
    "    \n",
    "    cv2.imshow(\"captured habds\", img)\n",
    "    if cv2.waitKey(100) == 13:\n",
    "        break\n",
    "        \n",
    "cv2.destroyAllWindows()         "
   ]
  },
  {
   "cell_type": "code",
   "execution_count": 5,
   "id": "341ec33d",
   "metadata": {},
   "outputs": [],
   "source": [
    "# release webcam\n",
    "camera.release()"
   ]
  },
  {
   "cell_type": "code",
   "execution_count": null,
   "id": "3f96ba24",
   "metadata": {},
   "outputs": [],
   "source": []
  }
 ],
 "metadata": {
  "kernelspec": {
   "display_name": "Python 3 (ipykernel)",
   "language": "python",
   "name": "python3"
  },
  "language_info": {
   "codemirror_mode": {
    "name": "ipython",
    "version": 3
   },
   "file_extension": ".py",
   "mimetype": "text/x-python",
   "name": "python",
   "nbconvert_exporter": "python",
   "pygments_lexer": "ipython3",
   "version": "3.10.9"
  }
 },
 "nbformat": 4,
 "nbformat_minor": 5
}
